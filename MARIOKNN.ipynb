{
 "cells": [
  {
   "cell_type": "markdown",
   "metadata": {},
   "source": [
    "## 1- Load the required modeules"
   ]
  },
  {
   "cell_type": "code",
   "execution_count": 2,
   "metadata": {
    "collapsed": false
   },
   "outputs": [],
   "source": [
    "import numpy as np                     # Llibreria matemÃ tica\n",
    "import matplotlib.pyplot as plt        # Per mostrar plots\n",
    "import sklearn                         # Llibreia de DM\n",
    "import sklearn.datasets as ds            # Per carregar mÃ©s facilment el dataset digits\n",
    "import sklearn.cross_validation as cv    # Pel Cross-validation\n",
    "import sklearn.neighbors as nb           # Per fer servir el knn\n",
    "%matplotlib inline"
   ]
  },
  {
   "cell_type": "markdown",
   "metadata": {},
   "source": [
    "## 2- Load the data"
   ]
  },
  {
   "cell_type": "code",
   "execution_count": 3,
   "metadata": {
    "collapsed": false
   },
   "outputs": [
    {
     "name": "stdout",
     "output_type": "stream",
     "text": [
      "(0.0, 16.0)\n",
      "(1797L, 64L)\n"
     ]
    }
   ],
   "source": [
    "# Carreguem el fitxer de digits \n",
    "digits = ds.load_digits()\n",
    "# Separem entre dades i etiqueta\n",
    "X = digits.data\n",
    "y = digits.target\n",
    "# Veiem rang dels valors i mides\n",
    "# Les variables son arrays de numpy i tenen mÃ¨todes especials associats\n",
    "print((X.min(), X.max()))\n",
    "# Nombre de files i nombre de columnes. Imatge Ã©s de 8x8 pixels = 64 de llarg.\n",
    "print(X.shape)"
   ]
  },
  {
   "cell_type": "code",
   "execution_count": 4,
   "metadata": {
    "collapsed": false
   },
   "outputs": [
    {
     "data": {
      "image/png": "[encoded data removed]",
      "text/plain": [
       "<matplotlib.figure.Figure at 0x9e4add8>"
      ]
     },
     "metadata": {},
     "output_type": "display_data"
    }
   ],
   "source": [
    "# Mostrem un plot de les figures amb un exemple de cada digit.\n",
    "nrows, ncols = 2, 5\n",
    "plt.figure(figsize=(6,3));\n",
    "plt.gray()\n",
    "for i in range(ncols * nrows):\n",
    "    ax = plt.subplot(nrows, ncols, i + 1)\n",
    "    ax.matshow(digits.images[i,...])\n",
    "    plt.xticks([]); plt.yticks([]);\n",
    "    plt.title(digits.target[i]);\n",
    "plt.show()"
   ]
  },
  {
   "cell_type": "markdown",
   "metadata": {},
   "source": [
    "## 3- Simple cross-validation"
   ]
  },
  {
   "cell_type": "code",
   "execution_count": 5,
   "metadata": {
    "collapsed": false
   },
   "outputs": [
    {
     "name": "stdout",
     "output_type": "stream",
     "text": [
      "0.988888888889\n",
      "[[51  0  0  0  0  0  0  0  0  0]\n",
      " [ 0 38  0  0  0  0  0  0  0  0]\n",
      " [ 0  0 46  0  0  0  0  1  0  0]\n",
      " [ 0  0  0 48  0  0  0  0  0  0]\n",
      " [ 0  0  0  0 48  0  0  0  0  0]\n",
      " [ 0  0  0  0  0 49  1  0  0  0]\n",
      " [ 0  0  0  0  0  0 36  0  0  0]\n",
      " [ 0  0  0  0  0  0  0 38  0  0]\n",
      " [ 0  1  0  0  0  0  0  0 46  0]\n",
      " [ 0  0  0  0  1  0  0  0  1 45]]\n"
     ]
    }
   ],
   "source": [
    "# Fem un cross-validation: Partim entre training i test amb test un 25% del total\n",
    "(X_train, X_test,  y_train, y_test) = cv.train_test_split(X, y, test_size=.25)\n",
    "\n",
    "# Definim un knn classificador\n",
    "knc = nb.KNeighborsClassifier()\n",
    "# Ajustem amb les dades de train\n",
    "knc.fit(X_train, y_train);\n",
    "# Avaluem amb el test\n",
    "print knc.score(X_test, y_test)\n",
    "\n",
    "# Veiem la matriu de confussió\n",
    "from sklearn.metrics import confusion_matrix\n",
    "y_pred = knc.predict(X_test)\n",
    "print sklearn.metrics.confusion_matrix(y_test, y_pred)"
   ]
  },
  {
   "cell_type": "markdown",
   "metadata": {},
   "source": [
    "### Let's build a one by hand to see prediction"
   ]
  },
  {
   "cell_type": "code",
   "execution_count": 7,
   "metadata": {
    "collapsed": false
   },
   "outputs": [
    {
     "data": {
      "image/png": "[encoded data removed]",
      "text/plain": [
       "<matplotlib.figure.Figure at 0xaa39f60>"
      ]
     },
     "metadata": {},
     "output_type": "display_data"
    },
    {
     "name": "stdout",
     "output_type": "stream",
     "text": [
      "[1]\n"
     ]
    }
   ],
   "source": [
    "one = np.zeros((8, 8))\n",
    "one[1:-1, 4] = 16  # The image values are in [0, 16].\n",
    "one[2, 3] = 16\n",
    "\n",
    "# Dibuixem el 1\n",
    "plt.figure(figsize=(2,2));\n",
    "plt.imshow(one, interpolation='none');\n",
    "plt.grid(False);\n",
    "plt.xticks(); plt.yticks();\n",
    "plt.title(\"One\");\n",
    "plt.show()\n",
    "print knc.predict(one.reshape(1, 64))"
   ]
  },
  {
   "cell_type": "markdown",
   "metadata": {},
   "source": [
    "## 4- Let's do a 10-fold cross-validation"
   ]
  },
  {
   "cell_type": "code",
   "execution_count": 9,
   "metadata": {
    "collapsed": false
   },
   "outputs": [
    {
     "name": "stdout",
     "output_type": "stream",
     "text": [
      "[ 0.92972973  0.98907104  0.97790055  0.97777778  0.96648045  0.98324022\n",
      "  0.98882682  0.98314607  0.97740113  0.96590909]\n",
      "0.973948287255\n"
     ]
    }
   ],
   "source": [
    "# Metode 1\n",
    "# Pero aixo es sols un cross-validation. Fem un 10-fold cross-validation\n",
    "from sklearn.cross_validation import cross_val_score  \n",
    "from sklearn.cross_validation import cross_val_predict  \n",
    "from sklearn.metrics import accuracy_score\n",
    "\n",
    "cv_scores = cross_val_score(nb.KNeighborsClassifier(),  \n",
    "                            X=X,  \n",
    "                            y=y,  \n",
    "                            cv=10, scoring='accuracy')  \n",
    "# imprimim els resultats de cada folder\n",
    "print cv_scores\n",
    "# obtenim la mitjana de les 10 execucions\n",
    "print np.mean(cv_scores)"
   ]
  },
  {
   "cell_type": "code",
   "execution_count": 10,
   "metadata": {
    "collapsed": false
   },
   "outputs": [
    {
     "name": "stdout",
     "output_type": "stream",
     "text": [
      "[[178   0   0   0   0   0   0   0   0   0]\n",
      " [  0 182   0   0   0   0   0   0   0   0]\n",
      " [  0   3 170   0   0   0   0   1   3   0]\n",
      " [  0   0   1 178   0   1   0   2   1   0]\n",
      " [  0   1   0   0 178   0   0   2   0   0]\n",
      " [  0   0   0   0   0 177   1   0   0   4]\n",
      " [  0   1   0   0   0   1 179   0   0   0]\n",
      " [  0   0   0   0   0   0   0 176   0   3]\n",
      " [  0   9   1   1   0   0   0   1 162   0]\n",
      " [  0   2   0   4   1   1   0   1   1 170]]\n",
      "0.973845297718\n"
     ]
    }
   ],
   "source": [
    "# Metode 2\n",
    "# Fer el següent si volem veure matriu de confussió i ser més lliures en funció avaluació\n",
    "predicted = cross_val_predict(nb.KNeighborsClassifier(), X=X, y=y,  cv=10)  \n",
    "print sklearn.metrics.confusion_matrix(y, predicted)\n",
    "print sklearn.metrics.accuracy_score(y, predicted)"
   ]
  },
  {
   "cell_type": "code",
   "execution_count": 11,
   "metadata": {
    "collapsed": false
   },
   "outputs": [
    {
     "name": "stdout",
     "output_type": "stream",
     "text": [
      "             precision    recall  f1-score   support\n",
      "\n",
      "          0       1.00      1.00      1.00        51\n",
      "          1       0.97      1.00      0.99        38\n",
      "          2       1.00      0.98      0.99        47\n",
      "          3       1.00      1.00      1.00        48\n",
      "          4       0.98      1.00      0.99        48\n",
      "          5       1.00      0.98      0.99        50\n",
      "          6       0.97      1.00      0.99        36\n",
      "          7       0.97      1.00      0.99        38\n",
      "          8       0.98      0.98      0.98        47\n",
      "          9       1.00      0.96      0.98        47\n",
      "\n",
      "avg / total       0.99      0.99      0.99       450\n",
      "\n"
     ]
    }
   ],
   "source": [
    "from sklearn import metrics\n",
    "print metrics.classification_report(y_test, y_pred)"
   ]
  },
  {
   "cell_type": "markdown",
   "metadata": {},
   "source": [
    "## 5- Finding parameters for k-NN"
   ]
  },
  {
   "cell_type": "code",
   "execution_count": 12,
   "metadata": {
    "collapsed": false
   },
   "outputs": [
    {
     "name": "stdout",
     "output_type": "stream",
     "text": [
      "Accuracy 1 veí: 0.976149386025\n",
      "Accuracy 2 veins: 0.97778921138\n",
      "Accuracy 3 veins: 0.973948287255\n"
     ]
    }
   ],
   "source": [
    "# http://scikit-learn.org/stable/modules/generated/sklearn.neighbors.KNeighborsClassifier.html\n",
    "\n",
    "# Nombre de Veins\n",
    "cv_scores = cross_val_score(nb.KNeighborsClassifier(n_neighbors=1), X=X, y=y,  cv=10)  \n",
    "print \"Accuracy 1 veí:\", np.mean(cv_scores)\n",
    "\n",
    "cv_scores = cross_val_score(nb.KNeighborsClassifier(n_neighbors=3), X=X, y=y,  cv=10)  \n",
    "print \"Accuracy 2 veins:\",  np.mean(cv_scores)\n",
    "\n",
    "cv_scores = cross_val_score(nb.KNeighborsClassifier(n_neighbors=5), X=X, y=y,  cv=10)  \n",
    "print \"Accuracy 3 veins:\",  np.mean(cv_scores)"
   ]
  },
  {
   "cell_type": "code",
   "execution_count": 13,
   "metadata": {
    "collapsed": false
   },
   "outputs": [
    {
     "name": "stdout",
     "output_type": "stream",
     "text": [
      "Accuracy 1 veí i distancia: 0.976149386025\n",
      "Accuracy 3 veí i distancia: 0.978338347997\n",
      "Accuracy 5 veí i distancia: 0.973948287255\n"
     ]
    }
   ],
   "source": [
    "# Ponderació segons distancia\n",
    "cv_scores = cross_val_score(nb.KNeighborsClassifier(n_neighbors=1,weights='distance'), X=X, y=y,  cv=10)  \n",
    "print \"Accuracy 1 veí i distancia:\", np.mean(cv_scores)\n",
    "\n",
    "cv_scores = cross_val_score(nb.KNeighborsClassifier(n_neighbors=3,weights='distance'), X=X, y=y,  cv=10)  \n",
    "print \"Accuracy 3 veí i distancia:\", np.mean(cv_scores)\n",
    "\n",
    "cv_scores = cross_val_score(nb.KNeighborsClassifier(n_neighbors=5,weights='distance'), X=X, y=y,  cv=10)  \n",
    "print \"Accuracy 5 veí i distancia:\", np.mean(cv_scores)"
   ]
  },
  {
   "cell_type": "markdown",
   "metadata": {},
   "source": [
    "### Authomatically find best parameters:"
   ]
  },
  {
   "cell_type": "code",
   "execution_count": 14,
   "metadata": {
    "collapsed": false
   },
   "outputs": [
    {
     "data": {
      "image/png": "[encoded data removed]",
      "text/plain": [
       "<matplotlib.figure.Figure at 0xab221d0>"
      ]
     },
     "metadata": {},
     "output_type": "display_data"
    }
   ],
   "source": [
    "lr = []\n",
    "for ki in range(1,30,2):\n",
    "    cv_scores = cross_val_score(nb.KNeighborsClassifier(n_neighbors=ki), X=X, y=y, cv=10)\n",
    "    lr.append(np.mean(cv_scores))\n",
    "plt.plot(range(1,30,2),lr,'b')\n",
    "\n",
    "lr2 = []\n",
    "for ki in range(1,30,2):\n",
    "    cv_scores = cross_val_score(nb.KNeighborsClassifier(n_neighbors=ki,weights='distance'), X=X, y=y, cv=10)\n",
    "    lr2.append(np.mean(cv_scores))\n",
    "plt.plot(range(1,30,2),lr2,'r')\n",
    "plt.show()"
   ]
  },
  {
   "cell_type": "markdown",
   "metadata": {},
   "source": [
    "### Do the same using Grid Search method in python"
   ]
  },
  {
   "cell_type": "code",
   "execution_count": 20,
   "metadata": {
    "collapsed": false
   },
   "outputs": [
    {
     "name": "stdout",
     "output_type": "stream",
     "text": [
      "Best Params= {'n_neighbors': 3, 'weights': 'distance'} Accuracy= 0.987379361544\n"
     ]
    }
   ],
   "source": [
    "from sklearn.grid_search import GridSearchCV\n",
    "params = {'n_neighbors':range(1,30,2), 'weights':('distance','uniform')}\n",
    "knc = nb.KNeighborsClassifier()\n",
    "clf = GridSearchCV(knc, param_grid=params,cv=10)  # If cv is integer, by default is Stratifyed \n",
    "clf.fit(X_train, y_train)\n",
    "print \"Best Params=\",clf.best_params_, \"Accuracy=\", clf.best_score_"
   ]
  },
  {
   "cell_type": "markdown",
   "metadata": {},
   "source": [
    "Refem el model amb millors parametres i provem sobre el de test"
   ]
  },
  {
   "cell_type": "code",
   "execution_count": 21,
   "metadata": {
    "collapsed": false
   },
   "outputs": [
    {
     "name": "stdout",
     "output_type": "stream",
     "text": [
      "[[51  0  0  0  0  0  0  0  0  0]\n",
      " [ 0 38  0  0  0  0  0  0  0  0]\n",
      " [ 0  0 47  0  0  0  0  0  0  0]\n",
      " [ 0  0  0 47  0  0  0  1  0  0]\n",
      " [ 0  0  0  0 48  0  0  0  0  0]\n",
      " [ 0  0  0  0  0 49  1  0  0  0]\n",
      " [ 0  0  0  0  0  0 36  0  0  0]\n",
      " [ 0  0  0  0  0  0  0 38  0  0]\n",
      " [ 0  1  0  0  0  0  0  0 46  0]\n",
      " [ 0  0  0  0  1  0  0  0  1 45]]\n",
      "0.988888888889\n"
     ]
    }
   ],
   "source": [
    "parval=clf.best_params_\n",
    "knc = nb.KNeighborsClassifier(n_neighbors=parval['n_neighbors'],weights=parval['weights'])\n",
    "knc.fit(X_train, y_train)\n",
    "pred=knc.predict(X_test)\n",
    "print sklearn.metrics.confusion_matrix(y_test, pred)\n",
    "print sklearn.metrics.accuracy_score(y_test, pred)"
   ]
  },
  {
   "cell_type": "markdown",
   "metadata": {},
   "source": [
    "Anem a inspeccionar els errors en el test set"
   ]
  },
  {
   "cell_type": "code",
   "execution_count": 22,
   "metadata": {
    "collapsed": false
   },
   "outputs": [
    {
     "name": "stdout",
     "output_type": "stream",
     "text": [
      "Penso que es:  4 i es 9\n"
     ]
    },
    {
     "data": {
      "text/plain": [
       "<matplotlib.figure.Figure at 0x8eb2550>"
      ]
     },
     "metadata": {},
     "output_type": "display_data"
    },
    {
     "data": {
      "image/png": "[encoded data removed]",
      "text/plain": [
       "<matplotlib.figure.Figure at 0xab22358>"
      ]
     },
     "metadata": {},
     "output_type": "display_data"
    },
    {
     "name": "stdout",
     "output_type": "stream",
     "text": [
      "Penso que es:  8 i es 9\n"
     ]
    },
    {
     "data": {
      "image/png": "[encoded data removed]",
      "text/plain": [
       "<matplotlib.figure.Figure at 0xa6966a0>"
      ]
     },
     "metadata": {},
     "output_type": "display_data"
    },
    {
     "name": "stdout",
     "output_type": "stream",
     "text": [
      "Penso que es:  7 i es 3\n"
     ]
    },
    {
     "data": {
      "image/png": "[encoded data removed]",
      "text/plain": [
       "<matplotlib.figure.Figure at 0xa9cb4a8>"
      ]
     },
     "metadata": {},
     "output_type": "display_data"
    },
    {
     "name": "stdout",
     "output_type": "stream",
     "text": [
      "Penso que es:  1 i es 8\n"
     ]
    },
    {
     "data": {
      "image/png": "[encoded data removed]",
      "text/plain": [
       "<matplotlib.figure.Figure at 0xa955ef0>"
      ]
     },
     "metadata": {},
     "output_type": "display_data"
    },
    {
     "name": "stdout",
     "output_type": "stream",
     "text": [
      "Penso que es:  6 i es 5\n"
     ]
    },
    {
     "data": {
      "image/png": "[encoded data removed]",
      "text/plain": [
       "<matplotlib.figure.Figure at 0xb247a20>"
      ]
     },
     "metadata": {},
     "output_type": "display_data"
    }
   ],
   "source": [
    "testerrors=[i for i,k in enumerate(pred) if k!=y_test[i]]\n",
    "plt.gray()\n",
    "plt.ion\n",
    "for i in testerrors:\n",
    "    plt.matshow(X_test[i].reshape(8,8))\n",
    "    plt.xticks([]); plt.yticks([]);\n",
    "    print \"Penso que es: \", pred[i],\"i es\",y_test[i]\n",
    "    plt.show()"
   ]
  },
  {
   "cell_type": "markdown",
   "metadata": {},
   "source": [
    "# Exercise1:\n",
    "\n",
    "Do a 10-fold Cross-Validation using Naive Bayes"
   ]
  },
  {
   "cell_type": "code",
   "execution_count": 34,
   "metadata": {
    "collapsed": true
   },
   "outputs": [],
   "source": [
    "from sklearn.naive_bayes import GaussianNB  # For numerical featuresm assuming normal distribution\n",
    "from sklearn.naive_bayes import MultinomialNB  # For features with counting numbers (f.i. hown many times word appears in doc)\n",
    "from sklearn.naive_bayes import BernoulliNB  # For binari features (f.i. word appears or not in document)\n",
    "clf = GaussianNB()"
   ]
  },
  {
   "cell_type": "code",
   "execution_count": null,
   "metadata": {
    "collapsed": true
   },
   "outputs": [],
   "source": [
    ""
   ]
  }
 ],
 "metadata": {
  "anaconda-cloud": {},
  "kernelspec": {
   "display_name": "Python [default]",
   "language": "python",
   "name": "python2"
  },
  "language_info": {
   "codemirror_mode": {
    "name": "ipython",
    "version": 2.0
   },
   "file_extension": ".py",
   "mimetype": "text/x-python",
   "name": "python",
   "nbconvert_exporter": "python",
   "pygments_lexer": "ipython2",
   "version": "2.7.12"
  }
 },
 "nbformat": 4,
 "nbformat_minor": 0
}